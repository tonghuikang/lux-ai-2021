{
 "cells": [
  {
   "cell_type": "code",
   "execution_count": 1,
   "metadata": {},
   "outputs": [],
   "source": [
    "%load_ext autoreload\n",
    "%autoreload 2\n",
    "!rm -rf __pycache__/"
   ]
  },
  {
   "cell_type": "code",
   "execution_count": 2,
   "metadata": {},
   "outputs": [
    {
     "name": "stdout",
     "output_type": "stream",
     "text": [
      "u_1 (5, 1)  2\n",
      "cleanup_missions\n",
      "u_1 (5, 1)  2\n",
      "(3, 1, -4.0, -0.5, -1, -4, -3, 1)\n",
      "\n",
      "city_tile values -4.0 1 -1 -4 -3 1\n",
      "reset_missions\n",
      "[-9.260e+00  1.000e-02 -1.024e+01 -5.460e+00  6.000e+00  2.700e-01]\n",
      "[-10.22   1.21  -9.9   -6.1    7.79  -1.65]\n",
      "[-10.41  -1.23 -10.77  -4.93   5.36   0.66]\n",
      "[-9.16  0.4  -9.73 -6.7   5.9  -0.88]\n",
      "[-8.34  0.88 -8.42 -7.62  7.38 -1.  ]\n",
      "[-9.99 -0.9  -8.38 -6.74  6.62 -0.38]\n",
      "[-12.03   0.66  -9.03  -7.85   7.31  -1.14]\n",
      "[-7.52 -0.07 -8.96 -4.44  7.46 -2.01]\n",
      "[ 5. 29.  3. 16. 40. 27.]\n",
      "[-9.61734641  0.12104346 -9.42930508 -6.23168635  6.72706473 -0.76435605]\n",
      "[-9.62  0.12 -9.43 -6.23  6.73 -0.76]\n",
      "[4 1 5 3 2 0]\n",
      "u_1 (5, 1) (5, 1) bcity u_1 0.10692715644836426\n",
      "\n",
      "units without actions []\n",
      "cleanup_missions\n",
      "u_1 (5, 1)  2\n",
      "housing test u_1 (5, 1) True True True\n",
      "cleanup_missions\n",
      "u_1 (5, 1)  2\n",
      "housing test u_1 (5, 1) True True True\n",
      "units without actions []\n",
      "Missions\n",
      "u_1 (5, 1)  2\n",
      "actions_by_cities [\"dt 3 1 'NS' 45\"]\n",
      "actions_by_units_initial ['bcity u_1', 'dx 5 1']\n",
      "cluster_annotations_and_ejections []\n",
      "mission_annotations ['dl 5 1 5 1', \"dst 'Unit Count: 1-1 Citytiles: 1-1 Groups: 1/3 Runtime: 0.133'\"]\n",
      "actions_by_units []\n",
      "actions_by_units_supplementary []\n",
      "state_annotations [\"dt 3 1 '0' 45\", \"dt 8 1 '0' 45\", \"dt 5 1 'FW' 45\", \"dt 6 1 'FW' 45\", \"dt 5 2 'MD' 45\", \"dt 5 4 'ME' 45\", \"dt 5 1 'PD' 45\", \"dt 3 1 'PE' 45\"]\n",
      "movement_annotations []\n"
     ]
    }
   ],
   "source": [
    "import pickle\n",
    "import numpy as np\n",
    "import matplotlib.pyplot as plt\n",
    "from agent import game_logic\n",
    "from agent import Missions\n",
    "from lux.game import Observation\n",
    "\n",
    "str_step = \"004\"\n",
    "player_id = 0\n",
    "with open(f'snapshots/observation-{str_step}-{player_id}.pkl', 'rb') as handle:\n",
    "    observation = pickle.load(handle)\n",
    "with open(f'snapshots/game_state-{str_step}-{player_id}.pkl', 'rb') as handle:\n",
    "    game_state = pickle.load(handle)\n",
    "with open(f'snapshots/missions-{str_step}-{player_id}.pkl', 'rb') as handle:\n",
    "    missions = pickle.load(handle)\n",
    "\n",
    "print(missions)\n",
    "_ = game_logic(game_state, missions, observation, DEBUG=True)"
   ]
  },
  {
   "cell_type": "code",
   "execution_count": 3,
   "metadata": {},
   "outputs": [
    {
     "data": {
      "image/png": "[encoded data removed]",
      "text/plain": [
       "<Figure size 432x288 with 2 Axes>"
      ]
     },
     "metadata": {
      "needs_background": "light"
     },
     "output_type": "display_data"
    }
   ],
   "source": [
    "plt.imshow(game_state.convolved_collectable_tiles_matrix)\n",
    "plt.colorbar()\n",
    "plt.show()"
   ]
  },
  {
   "cell_type": "code",
   "execution_count": null,
   "metadata": {},
   "outputs": [],
   "source": []
  }
 ],
 "metadata": {
  "kernelspec": {
   "display_name": "Python [conda env:lux-ai]",
   "language": "python",
   "name": "conda-env-lux-ai-py"
  },
  "language_info": {
   "codemirror_mode": {
    "name": "ipython",
    "version": 3
   },
   "file_extension": ".py",
   "mimetype": "text/x-python",
   "name": "python",
   "nbconvert_exporter": "python",
   "pygments_lexer": "ipython3",
   "version": "3.9.6"
  }
 },
 "nbformat": 4,
 "nbformat_minor": 5
}
